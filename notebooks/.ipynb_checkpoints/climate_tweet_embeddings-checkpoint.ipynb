{
 "cells": [
  {
   "cell_type": "markdown",
   "metadata": {
    "id": "E85dfHsJq0ol"
   },
   "source": [
    "# Download files\n"
   ]
  },
  {
   "cell_type": "code",
   "execution_count": 3,
   "metadata": {
    "colab": {
     "base_uri": "https://localhost:8080/"
    },
    "id": "KctHGEmc1IGl",
    "outputId": "60ef68ed-04e8-4df3-9ccb-21ceb3dbe6a9"
   },
   "outputs": [],
   "source": [
    "!pip install transformers openai tenacity -qqq"
   ]
  },
  {
   "cell_type": "markdown",
   "metadata": {
    "id": "bUmwNC8A4-rr"
   },
   "source": [
    "# Summarize chunks"
   ]
  },
  {
   "cell_type": "code",
   "execution_count": 1,
   "metadata": {
    "id": "JaH9f_co-B4v"
   },
   "outputs": [
    {
     "name": "stderr",
     "output_type": "stream",
     "text": [
      "/Users/sharonxu/.pyenv/versions/3.8.13/envs/venv.climate/lib/python3.8/site-packages/tqdm/auto.py:22: TqdmWarning: IProgress not found. Please update jupyter and ipywidgets. See https://ipywidgets.readthedocs.io/en/stable/user_install.html\n",
      "  from .autonotebook import tqdm as notebook_tqdm\n",
      "None of PyTorch, TensorFlow >= 2.0, or Flax have been found. Models won't be available and only tokenizers, configuration and file/data utilities can be used.\n"
     ]
    },
    {
     "ename": "ModuleNotFoundError",
     "evalue": "No module named 'google'",
     "output_type": "error",
     "traceback": [
      "\u001b[0;31m---------------------------------------------------------------------------\u001b[0m",
      "\u001b[0;31mModuleNotFoundError\u001b[0m                       Traceback (most recent call last)",
      "Cell \u001b[0;32mIn [1], line 6\u001b[0m\n\u001b[1;32m      3\u001b[0m \u001b[38;5;28;01mimport\u001b[39;00m \u001b[38;5;21;01mpathlib\u001b[39;00m\n\u001b[1;32m      4\u001b[0m \u001b[38;5;28;01mimport\u001b[39;00m \u001b[38;5;21;01mtransformers\u001b[39;00m\n\u001b[0;32m----> 6\u001b[0m \u001b[38;5;28;01mfrom\u001b[39;00m \u001b[38;5;21;01mgoogle\u001b[39;00m\u001b[38;5;21;01m.\u001b[39;00m\u001b[38;5;21;01mcolab\u001b[39;00m \u001b[38;5;28;01mimport\u001b[39;00m drive\n\u001b[1;32m      7\u001b[0m \u001b[38;5;28;01mfrom\u001b[39;00m \u001b[38;5;21;01mtenacity\u001b[39;00m \u001b[38;5;28;01mimport\u001b[39;00m (\n\u001b[1;32m      8\u001b[0m     retry,\n\u001b[1;32m      9\u001b[0m     stop_after_attempt,\n\u001b[1;32m     10\u001b[0m     wait_random_exponential,\n\u001b[1;32m     11\u001b[0m )\n",
      "\u001b[0;31mModuleNotFoundError\u001b[0m: No module named 'google'"
     ]
    }
   ],
   "source": [
    "import openai\n",
    "import pandas as pd\n",
    "import pathlib\n",
    "import transformers\n",
    "\n",
    "from google.colab import drive\n",
    "from tenacity import (\n",
    "    retry,\n",
    "    stop_after_attempt,\n",
    "    wait_random_exponential,\n",
    ")"
   ]
  },
  {
   "cell_type": "code",
   "execution_count": 11,
   "metadata": {
    "colab": {
     "base_uri": "https://localhost:8080/"
    },
    "id": "VOF8sLG2FrPv",
    "outputId": "0ac368c7-77e4-430d-85d4-e3f40eaa3fe0"
   },
   "outputs": [
    {
     "name": "stdout",
     "output_type": "stream",
     "text": [
      "Mounted at /content/drive\n"
     ]
    }
   ],
   "source": [
    "drive.mount('/content/drive', force_remount=True)"
   ]
  },
  {
   "cell_type": "code",
   "execution_count": 12,
   "metadata": {
    "id": "IDYSs8pzFtiM"
   },
   "outputs": [],
   "source": [
    "with open('/content/drive/MyDrive/openai.key') as f:\n",
    "    openai.api_key = f.read().strip()\n",
    "\n",
    "data_path = '/content/drive/MyDrive/openai-hackathon/data/'"
   ]
  },
  {
   "cell_type": "code",
   "execution_count": 18,
   "metadata": {
    "id": "c8OBbaxF1Oxj"
   },
   "outputs": [],
   "source": [
    "# !unzip /content/drive/MyDrive/openai-hackathon/data/tweets1.zip -d /content/drive/MyDrive/openai-hackathon/data\n",
    "# !unzip /content/drive/MyDrive/openai-hackathon/data/tweets2.zip -d /content/drive/MyDrive/openai-hackathon/data"
   ]
  },
  {
   "cell_type": "markdown",
   "metadata": {
    "id": "sdyc8QuUAuSn"
   },
   "source": [
    "**Dataset 1**\n",
    "\n",
    "Source: [Kaggle](https://www.kaggle.com/datasets/edqian/twitter-climate-change-sentiment-dataset).\n",
    "\n",
    "This dataset aggregates tweets pertaining to climate change collected between Apr 27, 2015 and Feb 21, 2018. In total, 43943 tweets were annotated. Each tweet is labelled independently by 3 reviewers. This dataset only contains tweets that all 3 reviewers agreed on (the rest were discarded).\n",
    "\n",
    "Each tweet is labelled as one of the following classes:\n",
    "\n",
    "    2(News): the tweet links to factual news about climate change\n",
    "    1(Pro): the tweet supports the belief of man-made climate change\n",
    "    0(Neutral: the tweet neither supports nor refutes the belief of man-made climate change\n",
    "    -1(Anti): the tweet does not believe in man-made climate change\n"
   ]
  },
  {
   "cell_type": "code",
   "execution_count": 3,
   "metadata": {},
   "outputs": [],
   "source": [
    "data_path = '../data/'"
   ]
  },
  {
   "cell_type": "code",
   "execution_count": 34,
   "metadata": {
    "id": "aSsxiwiJzQxd"
   },
   "outputs": [],
   "source": [
    "tweets1 = pd.read_csv(data_path + 'twitter_sentiment_data.csv')"
   ]
  },
  {
   "cell_type": "code",
   "execution_count": 20,
   "metadata": {
    "colab": {
     "base_uri": "https://localhost:8080/"
    },
    "id": "O5ORNupX0Mcq",
    "outputId": "adb2b3ad-80b6-4d47-e2fe-3e497e076acd"
   },
   "outputs": [
    {
     "data": {
      "text/plain": [
       "43943"
      ]
     },
     "execution_count": 20,
     "metadata": {},
     "output_type": "execute_result"
    }
   ],
   "source": [
    "len(tweets1)"
   ]
  },
  {
   "cell_type": "code",
   "execution_count": 21,
   "metadata": {
    "colab": {
     "base_uri": "https://localhost:8080/",
     "height": 424
    },
    "id": "7KsjunP71Adn",
    "outputId": "498ebeb2-9deb-48ce-9613-cc73c6eb9dd2"
   },
   "outputs": [
    {
     "data": {
      "text/html": [
       "\n",
       "  <div id=\"df-4a87fa6b-cb3c-4c17-b58f-7685f6a5f34c\">\n",
       "    <div class=\"colab-df-container\">\n",
       "      <div>\n",
       "<style scoped>\n",
       "    .dataframe tbody tr th:only-of-type {\n",
       "        vertical-align: middle;\n",
       "    }\n",
       "\n",
       "    .dataframe tbody tr th {\n",
       "        vertical-align: top;\n",
       "    }\n",
       "\n",
       "    .dataframe thead th {\n",
       "        text-align: right;\n",
       "    }\n",
       "</style>\n",
       "<table border=\"1\" class=\"dataframe\">\n",
       "  <thead>\n",
       "    <tr style=\"text-align: right;\">\n",
       "      <th></th>\n",
       "      <th>sentiment</th>\n",
       "      <th>message</th>\n",
       "      <th>tweetid</th>\n",
       "    </tr>\n",
       "  </thead>\n",
       "  <tbody>\n",
       "    <tr>\n",
       "      <th>0</th>\n",
       "      <td>-1</td>\n",
       "      <td>@tiniebeany climate change is an interesting hustle as it was global warming but the planet stopped warming for 15 yes while the suv boom</td>\n",
       "      <td>792927353886371840</td>\n",
       "    </tr>\n",
       "    <tr>\n",
       "      <th>1</th>\n",
       "      <td>1</td>\n",
       "      <td>RT @NatGeoChannel: Watch #BeforeTheFlood right here, as @LeoDiCaprio travels the world to tackle climate change https://t.co/LkDehj3tNn httÃ¢â‚¬Â¦</td>\n",
       "      <td>793124211518832641</td>\n",
       "    </tr>\n",
       "    <tr>\n",
       "      <th>2</th>\n",
       "      <td>1</td>\n",
       "      <td>Fabulous! Leonardo #DiCaprio's film on #climate change is brilliant!!! Do watch. https://t.co/7rV6BrmxjW via @youtube</td>\n",
       "      <td>793124402388832256</td>\n",
       "    </tr>\n",
       "    <tr>\n",
       "      <th>3</th>\n",
       "      <td>1</td>\n",
       "      <td>RT @Mick_Fanning: Just watched this amazing documentary by leonardodicaprio on climate change. We all think thisÃ¢â‚¬Â¦ https://t.co/kNSTE8K8im</td>\n",
       "      <td>793124635873275904</td>\n",
       "    </tr>\n",
       "    <tr>\n",
       "      <th>4</th>\n",
       "      <td>2</td>\n",
       "      <td>RT @cnalive: Pranita Biswasi, a Lutheran from Odisha, gives testimony on effects of climate change &amp;amp; natural disasters on the poÃ¢â‚¬Â¦</td>\n",
       "      <td>793125156185137153</td>\n",
       "    </tr>\n",
       "    <tr>\n",
       "      <th>...</th>\n",
       "      <td>...</td>\n",
       "      <td>...</td>\n",
       "      <td>...</td>\n",
       "    </tr>\n",
       "    <tr>\n",
       "      <th>43938</th>\n",
       "      <td>1</td>\n",
       "      <td>Dear @realDonaldTrump,\\nYeah right. Human Mediated Climate Change is a Chinese urban legend. https://t.co/LLLx3iEj4y</td>\n",
       "      <td>791307031919550464</td>\n",
       "    </tr>\n",
       "    <tr>\n",
       "      <th>43939</th>\n",
       "      <td>1</td>\n",
       "      <td>What will your respective parties do to prevent climate change globally? #ZPNDebate</td>\n",
       "      <td>791316857403936768</td>\n",
       "    </tr>\n",
       "    <tr>\n",
       "      <th>43940</th>\n",
       "      <td>2</td>\n",
       "      <td>RT @MikkiL: UN Poll Shows Climate Change Is the Lowest of All Global Concerns https://t.co/OopCQJvoGA</td>\n",
       "      <td>791357509101621249</td>\n",
       "    </tr>\n",
       "    <tr>\n",
       "      <th>43941</th>\n",
       "      <td>0</td>\n",
       "      <td>RT @taehbeingextra: i still can$q$t believe this gif of taehyung saved the human race, stopped global warming and watered every plant on…</td>\n",
       "      <td>791390042136641537</td>\n",
       "    </tr>\n",
       "    <tr>\n",
       "      <th>43942</th>\n",
       "      <td>1</td>\n",
       "      <td>@Likeabat77 @zachhaller \\n\\nThe wealthy + fossil fuel Industry know climate change is real. Their money is to make sure THEY are safe from it.</td>\n",
       "      <td>791401610308038656</td>\n",
       "    </tr>\n",
       "  </tbody>\n",
       "</table>\n",
       "<p>43943 rows × 3 columns</p>\n",
       "</div>\n",
       "      <button class=\"colab-df-convert\" onclick=\"convertToInteractive('df-4a87fa6b-cb3c-4c17-b58f-7685f6a5f34c')\"\n",
       "              title=\"Convert this dataframe to an interactive table.\"\n",
       "              style=\"display:none;\">\n",
       "        \n",
       "  <svg xmlns=\"http://www.w3.org/2000/svg\" height=\"24px\"viewBox=\"0 0 24 24\"\n",
       "       width=\"24px\">\n",
       "    <path d=\"M0 0h24v24H0V0z\" fill=\"none\"/>\n",
       "    <path d=\"M18.56 5.44l.94 2.06.94-2.06 2.06-.94-2.06-.94-.94-2.06-.94 2.06-2.06.94zm-11 1L8.5 8.5l.94-2.06 2.06-.94-2.06-.94L8.5 2.5l-.94 2.06-2.06.94zm10 10l.94 2.06.94-2.06 2.06-.94-2.06-.94-.94-2.06-.94 2.06-2.06.94z\"/><path d=\"M17.41 7.96l-1.37-1.37c-.4-.4-.92-.59-1.43-.59-.52 0-1.04.2-1.43.59L10.3 9.45l-7.72 7.72c-.78.78-.78 2.05 0 2.83L4 21.41c.39.39.9.59 1.41.59.51 0 1.02-.2 1.41-.59l7.78-7.78 2.81-2.81c.8-.78.8-2.07 0-2.86zM5.41 20L4 18.59l7.72-7.72 1.47 1.35L5.41 20z\"/>\n",
       "  </svg>\n",
       "      </button>\n",
       "      \n",
       "  <style>\n",
       "    .colab-df-container {\n",
       "      display:flex;\n",
       "      flex-wrap:wrap;\n",
       "      gap: 12px;\n",
       "    }\n",
       "\n",
       "    .colab-df-convert {\n",
       "      background-color: #E8F0FE;\n",
       "      border: none;\n",
       "      border-radius: 50%;\n",
       "      cursor: pointer;\n",
       "      display: none;\n",
       "      fill: #1967D2;\n",
       "      height: 32px;\n",
       "      padding: 0 0 0 0;\n",
       "      width: 32px;\n",
       "    }\n",
       "\n",
       "    .colab-df-convert:hover {\n",
       "      background-color: #E2EBFA;\n",
       "      box-shadow: 0px 1px 2px rgba(60, 64, 67, 0.3), 0px 1px 3px 1px rgba(60, 64, 67, 0.15);\n",
       "      fill: #174EA6;\n",
       "    }\n",
       "\n",
       "    [theme=dark] .colab-df-convert {\n",
       "      background-color: #3B4455;\n",
       "      fill: #D2E3FC;\n",
       "    }\n",
       "\n",
       "    [theme=dark] .colab-df-convert:hover {\n",
       "      background-color: #434B5C;\n",
       "      box-shadow: 0px 1px 3px 1px rgba(0, 0, 0, 0.15);\n",
       "      filter: drop-shadow(0px 1px 2px rgba(0, 0, 0, 0.3));\n",
       "      fill: #FFFFFF;\n",
       "    }\n",
       "  </style>\n",
       "\n",
       "      <script>\n",
       "        const buttonEl =\n",
       "          document.querySelector('#df-4a87fa6b-cb3c-4c17-b58f-7685f6a5f34c button.colab-df-convert');\n",
       "        buttonEl.style.display =\n",
       "          google.colab.kernel.accessAllowed ? 'block' : 'none';\n",
       "\n",
       "        async function convertToInteractive(key) {\n",
       "          const element = document.querySelector('#df-4a87fa6b-cb3c-4c17-b58f-7685f6a5f34c');\n",
       "          const dataTable =\n",
       "            await google.colab.kernel.invokeFunction('convertToInteractive',\n",
       "                                                     [key], {});\n",
       "          if (!dataTable) return;\n",
       "\n",
       "          const docLinkHtml = 'Like what you see? Visit the ' +\n",
       "            '<a target=\"_blank\" href=https://colab.research.google.com/notebooks/data_table.ipynb>data table notebook</a>'\n",
       "            + ' to learn more about interactive tables.';\n",
       "          element.innerHTML = '';\n",
       "          dataTable['output_type'] = 'display_data';\n",
       "          await google.colab.output.renderOutput(dataTable, element);\n",
       "          const docLink = document.createElement('div');\n",
       "          docLink.innerHTML = docLinkHtml;\n",
       "          element.appendChild(docLink);\n",
       "        }\n",
       "      </script>\n",
       "    </div>\n",
       "  </div>\n",
       "  "
      ],
      "text/plain": [
       "       sentiment  \\\n",
       "0             -1   \n",
       "1              1   \n",
       "2              1   \n",
       "3              1   \n",
       "4              2   \n",
       "...          ...   \n",
       "43938          1   \n",
       "43939          1   \n",
       "43940          2   \n",
       "43941          0   \n",
       "43942          1   \n",
       "\n",
       "                                                                                                                                                  message  \\\n",
       "0               @tiniebeany climate change is an interesting hustle as it was global warming but the planet stopped warming for 15 yes while the suv boom   \n",
       "1      RT @NatGeoChannel: Watch #BeforeTheFlood right here, as @LeoDiCaprio travels the world to tackle climate change https://t.co/LkDehj3tNn httÃ¢â‚¬Â¦   \n",
       "2                                   Fabulous! Leonardo #DiCaprio's film on #climate change is brilliant!!! Do watch. https://t.co/7rV6BrmxjW via @youtube   \n",
       "3         RT @Mick_Fanning: Just watched this amazing documentary by leonardodicaprio on climate change. We all think thisÃ¢â‚¬Â¦ https://t.co/kNSTE8K8im   \n",
       "4             RT @cnalive: Pranita Biswasi, a Lutheran from Odisha, gives testimony on effects of climate change &amp; natural disasters on the poÃ¢â‚¬Â¦   \n",
       "...                                                                                                                                                   ...   \n",
       "43938                                Dear @realDonaldTrump,\\nYeah right. Human Mediated Climate Change is a Chinese urban legend. https://t.co/LLLx3iEj4y   \n",
       "43939                                                                 What will your respective parties do to prevent climate change globally? #ZPNDebate   \n",
       "43940                                               RT @MikkiL: UN Poll Shows Climate Change Is the Lowest of All Global Concerns https://t.co/OopCQJvoGA   \n",
       "43941          RT @taehbeingextra: i still can$q$t believe this gif of taehyung saved the human race, stopped global warming and watered every plant on…    \n",
       "43942      @Likeabat77 @zachhaller \\n\\nThe wealthy + fossil fuel Industry know climate change is real. Their money is to make sure THEY are safe from it.   \n",
       "\n",
       "                  tweetid  \n",
       "0      792927353886371840  \n",
       "1      793124211518832641  \n",
       "2      793124402388832256  \n",
       "3      793124635873275904  \n",
       "4      793125156185137153  \n",
       "...                   ...  \n",
       "43938  791307031919550464  \n",
       "43939  791316857403936768  \n",
       "43940  791357509101621249  \n",
       "43941  791390042136641537  \n",
       "43942  791401610308038656  \n",
       "\n",
       "[43943 rows x 3 columns]"
      ]
     },
     "execution_count": 21,
     "metadata": {},
     "output_type": "execute_result"
    }
   ],
   "source": [
    "pd.set_option('display.max_colwidth', None)\n",
    "tweets1"
   ]
  },
  {
   "cell_type": "markdown",
   "metadata": {
    "id": "YFZ7aF40BRGI"
   },
   "source": [
    "**Dataset 2**\n",
    "\n",
    "Source: [Kaggle](https://www.kaggle.com/datasets/deffro/the-climate-change-twitter-dataset?select=The+Climate+Change+Twitter+Dataset.csv). If you use the dataset, cite the papers: https://doi.org/10.1016/j.eswa.2022.117541 and https://doi.org/10.1371/journal.pone.0274213\n",
    "\n",
    "The most comprehensive dataset to date regarding climate change and human opinions via Twitter. It has the heftiest temporal coverage, spanning over 13 years, includes over 15 million tweets spatially distributed across the world, and provides the geolocation of most tweets. Seven dimensions of information are tied to each tweet, namely geolocation, user gender, climate change stance and sentiment, aggressiveness, deviations from historic temperature, and topic modeling, while accompanied by environmental disaster events information. These dimensions were produced by testing and evaluating a plethora of state-of-the-art machine learning algorithms and methods, both supervised and unsupervised, including BERT, RNN, LSTM, CNN, SVM, Naive Bayes, VADER, Textblob, Flair, and LDA.\n",
    "\n",
    "Some relevant columns:\n",
    "- **topic**: Categorization of the tweet in one of ten topics namely, seriousness of gas emissions, importance of human intervention, global stance, significance of pollution awareness events, weather extremes, impact of resource overconsumption, Donald Trump versus science, ideological positions on global warming, politics, and undefined.\n",
    "- **sentiment**: A score on a continuous scale. This scale ranges from -1 to 1 with values closer to 1 being translated to positive sentiment, values closer to -1 representing a negative sentiment while values close to 0 depicting no sentiment or being neutral.\n",
    "- **stance**: That is if the tweet supports the belief of man-made climate change (believer), if the tweet does not believe in man-made climate change (denier), and if the tweet neither supports nor refuses the belief of man-made climate change (neutral)."
   ]
  },
  {
   "cell_type": "code",
   "execution_count": 5,
   "metadata": {
    "id": "F_DE6okcA2QK"
   },
   "outputs": [],
   "source": [
    "tweets2 = pd.read_csv(data_path + 'The Climate Change Twitter Dataset.csv')"
   ]
  },
  {
   "cell_type": "code",
   "execution_count": 23,
   "metadata": {
    "colab": {
     "base_uri": "https://localhost:8080/"
    },
    "id": "3zVmcBh_2biw",
    "outputId": "95c04daf-7f0c-4a39-f94d-8743d7b9c282"
   },
   "outputs": [
    {
     "data": {
      "text/plain": [
       "15789411"
      ]
     },
     "execution_count": 23,
     "metadata": {},
     "output_type": "execute_result"
    }
   ],
   "source": [
    "len(tweets2)"
   ]
  },
  {
   "cell_type": "code",
   "execution_count": 24,
   "metadata": {
    "colab": {
     "base_uri": "https://localhost:8080/",
     "height": 424
    },
    "id": "4KFbgTou2ep3",
    "outputId": "d53c81f8-66de-4e17-f241-0816ac9c8269"
   },
   "outputs": [
    {
     "data": {
      "text/html": [
       "\n",
       "  <div id=\"df-7fe9ae89-d68d-4d0b-b21b-e97254cf86a1\">\n",
       "    <div class=\"colab-df-container\">\n",
       "      <div>\n",
       "<style scoped>\n",
       "    .dataframe tbody tr th:only-of-type {\n",
       "        vertical-align: middle;\n",
       "    }\n",
       "\n",
       "    .dataframe tbody tr th {\n",
       "        vertical-align: top;\n",
       "    }\n",
       "\n",
       "    .dataframe thead th {\n",
       "        text-align: right;\n",
       "    }\n",
       "</style>\n",
       "<table border=\"1\" class=\"dataframe\">\n",
       "  <thead>\n",
       "    <tr style=\"text-align: right;\">\n",
       "      <th></th>\n",
       "      <th>created_at</th>\n",
       "      <th>id</th>\n",
       "      <th>lng</th>\n",
       "      <th>lat</th>\n",
       "      <th>topic</th>\n",
       "      <th>sentiment</th>\n",
       "      <th>stance</th>\n",
       "      <th>gender</th>\n",
       "      <th>temperature_avg</th>\n",
       "      <th>aggressiveness</th>\n",
       "    </tr>\n",
       "  </thead>\n",
       "  <tbody>\n",
       "    <tr>\n",
       "      <th>0</th>\n",
       "      <td>2006-06-06 16:06:42+00:00</td>\n",
       "      <td>6132</td>\n",
       "      <td>NaN</td>\n",
       "      <td>NaN</td>\n",
       "      <td>Weather Extremes</td>\n",
       "      <td>-0.097180</td>\n",
       "      <td>neutral</td>\n",
       "      <td>female</td>\n",
       "      <td>NaN</td>\n",
       "      <td>aggressive</td>\n",
       "    </tr>\n",
       "    <tr>\n",
       "      <th>1</th>\n",
       "      <td>2006-07-23 21:52:30+00:00</td>\n",
       "      <td>13275</td>\n",
       "      <td>-73.949582</td>\n",
       "      <td>40.650104</td>\n",
       "      <td>Weather Extremes</td>\n",
       "      <td>0.575777</td>\n",
       "      <td>neutral</td>\n",
       "      <td>undefined</td>\n",
       "      <td>-1.114768</td>\n",
       "      <td>aggressive</td>\n",
       "    </tr>\n",
       "    <tr>\n",
       "      <th>2</th>\n",
       "      <td>2006-08-29 01:52:30+00:00</td>\n",
       "      <td>23160</td>\n",
       "      <td>NaN</td>\n",
       "      <td>NaN</td>\n",
       "      <td>Weather Extremes</td>\n",
       "      <td>0.500479</td>\n",
       "      <td>neutral</td>\n",
       "      <td>male</td>\n",
       "      <td>NaN</td>\n",
       "      <td>aggressive</td>\n",
       "    </tr>\n",
       "    <tr>\n",
       "      <th>3</th>\n",
       "      <td>2006-11-07 02:46:52+00:00</td>\n",
       "      <td>57868</td>\n",
       "      <td>NaN</td>\n",
       "      <td>NaN</td>\n",
       "      <td>Weather Extremes</td>\n",
       "      <td>0.032816</td>\n",
       "      <td>neutral</td>\n",
       "      <td>male</td>\n",
       "      <td>NaN</td>\n",
       "      <td>aggressive</td>\n",
       "    </tr>\n",
       "    <tr>\n",
       "      <th>4</th>\n",
       "      <td>2006-11-27 14:27:43+00:00</td>\n",
       "      <td>304553</td>\n",
       "      <td>NaN</td>\n",
       "      <td>NaN</td>\n",
       "      <td>Importance of Human Intervantion</td>\n",
       "      <td>-0.090428</td>\n",
       "      <td>neutral</td>\n",
       "      <td>male</td>\n",
       "      <td>NaN</td>\n",
       "      <td>aggressive</td>\n",
       "    </tr>\n",
       "    <tr>\n",
       "      <th>...</th>\n",
       "      <td>...</td>\n",
       "      <td>...</td>\n",
       "      <td>...</td>\n",
       "      <td>...</td>\n",
       "      <td>...</td>\n",
       "      <td>...</td>\n",
       "      <td>...</td>\n",
       "      <td>...</td>\n",
       "      <td>...</td>\n",
       "      <td>...</td>\n",
       "    </tr>\n",
       "    <tr>\n",
       "      <th>15789406</th>\n",
       "      <td>2019-10-01 05:50:32+00:00</td>\n",
       "      <td>1178910045783937024</td>\n",
       "      <td>NaN</td>\n",
       "      <td>NaN</td>\n",
       "      <td>Global stance</td>\n",
       "      <td>-0.010875</td>\n",
       "      <td>believer</td>\n",
       "      <td>male</td>\n",
       "      <td>NaN</td>\n",
       "      <td>not aggressive</td>\n",
       "    </tr>\n",
       "    <tr>\n",
       "      <th>15789407</th>\n",
       "      <td>2019-10-01 05:50:49+00:00</td>\n",
       "      <td>1178910117095305216</td>\n",
       "      <td>-118.243680</td>\n",
       "      <td>34.052230</td>\n",
       "      <td>Global stance</td>\n",
       "      <td>-0.685905</td>\n",
       "      <td>believer</td>\n",
       "      <td>female</td>\n",
       "      <td>-3.126811</td>\n",
       "      <td>not aggressive</td>\n",
       "    </tr>\n",
       "    <tr>\n",
       "      <th>15789408</th>\n",
       "      <td>2019-10-01 05:53:37+00:00</td>\n",
       "      <td>1178910821750992896</td>\n",
       "      <td>100.501440</td>\n",
       "      <td>13.753980</td>\n",
       "      <td>Politics</td>\n",
       "      <td>0.343705</td>\n",
       "      <td>neutral</td>\n",
       "      <td>female</td>\n",
       "      <td>-0.364467</td>\n",
       "      <td>not aggressive</td>\n",
       "    </tr>\n",
       "    <tr>\n",
       "      <th>15789409</th>\n",
       "      <td>2019-10-01 05:54:37+00:00</td>\n",
       "      <td>1178911073371643904</td>\n",
       "      <td>NaN</td>\n",
       "      <td>NaN</td>\n",
       "      <td>Politics</td>\n",
       "      <td>-0.088496</td>\n",
       "      <td>believer</td>\n",
       "      <td>female</td>\n",
       "      <td>NaN</td>\n",
       "      <td>not aggressive</td>\n",
       "    </tr>\n",
       "    <tr>\n",
       "      <th>15789410</th>\n",
       "      <td>2019-10-01 05:57:52+00:00</td>\n",
       "      <td>1178911891285917696</td>\n",
       "      <td>NaN</td>\n",
       "      <td>NaN</td>\n",
       "      <td>Global stance</td>\n",
       "      <td>-0.685905</td>\n",
       "      <td>believer</td>\n",
       "      <td>female</td>\n",
       "      <td>NaN</td>\n",
       "      <td>not aggressive</td>\n",
       "    </tr>\n",
       "  </tbody>\n",
       "</table>\n",
       "<p>15789411 rows × 10 columns</p>\n",
       "</div>\n",
       "      <button class=\"colab-df-convert\" onclick=\"convertToInteractive('df-7fe9ae89-d68d-4d0b-b21b-e97254cf86a1')\"\n",
       "              title=\"Convert this dataframe to an interactive table.\"\n",
       "              style=\"display:none;\">\n",
       "        \n",
       "  <svg xmlns=\"http://www.w3.org/2000/svg\" height=\"24px\"viewBox=\"0 0 24 24\"\n",
       "       width=\"24px\">\n",
       "    <path d=\"M0 0h24v24H0V0z\" fill=\"none\"/>\n",
       "    <path d=\"M18.56 5.44l.94 2.06.94-2.06 2.06-.94-2.06-.94-.94-2.06-.94 2.06-2.06.94zm-11 1L8.5 8.5l.94-2.06 2.06-.94-2.06-.94L8.5 2.5l-.94 2.06-2.06.94zm10 10l.94 2.06.94-2.06 2.06-.94-2.06-.94-.94-2.06-.94 2.06-2.06.94z\"/><path d=\"M17.41 7.96l-1.37-1.37c-.4-.4-.92-.59-1.43-.59-.52 0-1.04.2-1.43.59L10.3 9.45l-7.72 7.72c-.78.78-.78 2.05 0 2.83L4 21.41c.39.39.9.59 1.41.59.51 0 1.02-.2 1.41-.59l7.78-7.78 2.81-2.81c.8-.78.8-2.07 0-2.86zM5.41 20L4 18.59l7.72-7.72 1.47 1.35L5.41 20z\"/>\n",
       "  </svg>\n",
       "      </button>\n",
       "      \n",
       "  <style>\n",
       "    .colab-df-container {\n",
       "      display:flex;\n",
       "      flex-wrap:wrap;\n",
       "      gap: 12px;\n",
       "    }\n",
       "\n",
       "    .colab-df-convert {\n",
       "      background-color: #E8F0FE;\n",
       "      border: none;\n",
       "      border-radius: 50%;\n",
       "      cursor: pointer;\n",
       "      display: none;\n",
       "      fill: #1967D2;\n",
       "      height: 32px;\n",
       "      padding: 0 0 0 0;\n",
       "      width: 32px;\n",
       "    }\n",
       "\n",
       "    .colab-df-convert:hover {\n",
       "      background-color: #E2EBFA;\n",
       "      box-shadow: 0px 1px 2px rgba(60, 64, 67, 0.3), 0px 1px 3px 1px rgba(60, 64, 67, 0.15);\n",
       "      fill: #174EA6;\n",
       "    }\n",
       "\n",
       "    [theme=dark] .colab-df-convert {\n",
       "      background-color: #3B4455;\n",
       "      fill: #D2E3FC;\n",
       "    }\n",
       "\n",
       "    [theme=dark] .colab-df-convert:hover {\n",
       "      background-color: #434B5C;\n",
       "      box-shadow: 0px 1px 3px 1px rgba(0, 0, 0, 0.15);\n",
       "      filter: drop-shadow(0px 1px 2px rgba(0, 0, 0, 0.3));\n",
       "      fill: #FFFFFF;\n",
       "    }\n",
       "  </style>\n",
       "\n",
       "      <script>\n",
       "        const buttonEl =\n",
       "          document.querySelector('#df-7fe9ae89-d68d-4d0b-b21b-e97254cf86a1 button.colab-df-convert');\n",
       "        buttonEl.style.display =\n",
       "          google.colab.kernel.accessAllowed ? 'block' : 'none';\n",
       "\n",
       "        async function convertToInteractive(key) {\n",
       "          const element = document.querySelector('#df-7fe9ae89-d68d-4d0b-b21b-e97254cf86a1');\n",
       "          const dataTable =\n",
       "            await google.colab.kernel.invokeFunction('convertToInteractive',\n",
       "                                                     [key], {});\n",
       "          if (!dataTable) return;\n",
       "\n",
       "          const docLinkHtml = 'Like what you see? Visit the ' +\n",
       "            '<a target=\"_blank\" href=https://colab.research.google.com/notebooks/data_table.ipynb>data table notebook</a>'\n",
       "            + ' to learn more about interactive tables.';\n",
       "          element.innerHTML = '';\n",
       "          dataTable['output_type'] = 'display_data';\n",
       "          await google.colab.output.renderOutput(dataTable, element);\n",
       "          const docLink = document.createElement('div');\n",
       "          docLink.innerHTML = docLinkHtml;\n",
       "          element.appendChild(docLink);\n",
       "        }\n",
       "      </script>\n",
       "    </div>\n",
       "  </div>\n",
       "  "
      ],
      "text/plain": [
       "                         created_at                   id         lng  \\\n",
       "0         2006-06-06 16:06:42+00:00                 6132         NaN   \n",
       "1         2006-07-23 21:52:30+00:00                13275  -73.949582   \n",
       "2         2006-08-29 01:52:30+00:00                23160         NaN   \n",
       "3         2006-11-07 02:46:52+00:00                57868         NaN   \n",
       "4         2006-11-27 14:27:43+00:00               304553         NaN   \n",
       "...                             ...                  ...         ...   \n",
       "15789406  2019-10-01 05:50:32+00:00  1178910045783937024         NaN   \n",
       "15789407  2019-10-01 05:50:49+00:00  1178910117095305216 -118.243680   \n",
       "15789408  2019-10-01 05:53:37+00:00  1178910821750992896  100.501440   \n",
       "15789409  2019-10-01 05:54:37+00:00  1178911073371643904         NaN   \n",
       "15789410  2019-10-01 05:57:52+00:00  1178911891285917696         NaN   \n",
       "\n",
       "                lat                             topic  sentiment    stance  \\\n",
       "0               NaN                  Weather Extremes  -0.097180   neutral   \n",
       "1         40.650104                  Weather Extremes   0.575777   neutral   \n",
       "2               NaN                  Weather Extremes   0.500479   neutral   \n",
       "3               NaN                  Weather Extremes   0.032816   neutral   \n",
       "4               NaN  Importance of Human Intervantion  -0.090428   neutral   \n",
       "...             ...                               ...        ...       ...   \n",
       "15789406        NaN                     Global stance  -0.010875  believer   \n",
       "15789407  34.052230                     Global stance  -0.685905  believer   \n",
       "15789408  13.753980                          Politics   0.343705   neutral   \n",
       "15789409        NaN                          Politics  -0.088496  believer   \n",
       "15789410        NaN                     Global stance  -0.685905  believer   \n",
       "\n",
       "             gender  temperature_avg  aggressiveness  \n",
       "0            female              NaN      aggressive  \n",
       "1         undefined        -1.114768      aggressive  \n",
       "2              male              NaN      aggressive  \n",
       "3              male              NaN      aggressive  \n",
       "4              male              NaN      aggressive  \n",
       "...             ...              ...             ...  \n",
       "15789406       male              NaN  not aggressive  \n",
       "15789407     female        -3.126811  not aggressive  \n",
       "15789408     female        -0.364467  not aggressive  \n",
       "15789409     female              NaN  not aggressive  \n",
       "15789410     female              NaN  not aggressive  \n",
       "\n",
       "[15789411 rows x 10 columns]"
      ]
     },
     "execution_count": 24,
     "metadata": {},
     "output_type": "execute_result"
    }
   ],
   "source": [
    "tweets2"
   ]
  },
  {
   "cell_type": "code",
   "execution_count": 2,
   "metadata": {
    "colab": {
     "base_uri": "https://localhost:8080/"
    },
    "id": "qOY36TpE3fAa",
    "outputId": "f36f103e-e118-4562-b10e-604d740da198"
   },
   "outputs": [
    {
     "name": "stdout",
     "output_type": "stream",
     "text": [
      "\u001b[K     |████████████████████████████████| 60 kB 7.6 MB/s \n",
      "\u001b[K     |████████████████████████████████| 106 kB 63.7 MB/s \n",
      "\u001b[?25h  Building wheel for configobj (setup.py) ... \u001b[?25l\u001b[?25hdone\n"
     ]
    }
   ],
   "source": [
    "!pip install twarc -qqq"
   ]
  },
  {
   "cell_type": "code",
   "execution_count": 29,
   "metadata": {
    "colab": {
     "base_uri": "https://localhost:8080/"
    },
    "id": "WS7U-7TyqL45",
    "outputId": "1126489b-ff1f-461f-8e87-4a1e23e3675f"
   },
   "outputs": [
    {
     "data": {
      "text/plain": [
       "believer    71.518969\n",
       "neutral     20.935556\n",
       "denier       7.545475\n",
       "Name: stance, dtype: float64"
      ]
     },
     "execution_count": 29,
     "metadata": {},
     "output_type": "execute_result"
    }
   ],
   "source": [
    "tweets2.stance.value_counts() / len(tweets2) * 100"
   ]
  },
  {
   "cell_type": "code",
   "execution_count": 28,
   "metadata": {
    "colab": {
     "base_uri": "https://localhost:8080/"
    },
    "id": "jGbZbMd6pGq0",
    "outputId": "3c8fa197-b5c9-4dcf-9194-80c83fde1afe"
   },
   "outputs": [
    {
     "data": {
      "text/plain": [
       "Global stance                                 26.192358\n",
       "Importance of Human Intervantion              16.434692\n",
       "Weather Extremes                              15.610551\n",
       "Politics                                      11.460738\n",
       "Undefined / One Word Hashtags                  8.265780\n",
       "Donald Trump versus Science                    6.309570\n",
       "Seriousness of Gas Emissions                   5.722050\n",
       "Ideological Positions on Global Warming        3.817083\n",
       "Impact of Resource Overconsumption             3.147198\n",
       "Significance of Pollution Awareness Events     3.039980\n",
       "Name: topic, dtype: float64"
      ]
     },
     "execution_count": 28,
     "metadata": {},
     "output_type": "execute_result"
    }
   ],
   "source": [
    "tweets2.topic.value_counts() / len(tweets2) * 100"
   ]
  },
  {
   "cell_type": "code",
   "execution_count": 7,
   "metadata": {
    "colab": {
     "base_uri": "https://localhost:8080/"
    },
    "id": "j0eha8w4qK-T",
    "outputId": "dd5d75cb-7225-4934-a76c-e95674e78351"
   },
   "outputs": [
    {
     "data": {
      "text/plain": [
       "2018    39.642961\n",
       "2017    17.337784\n",
       "2019    13.778671\n",
       "2015     7.975972\n",
       "2016     7.468081\n",
       "2009     3.097449\n",
       "2010     2.836629\n",
       "2014     2.586867\n",
       "2011     2.013147\n",
       "2013     1.789022\n",
       "2012     1.258381\n",
       "2008     0.189874\n",
       "2007     0.025086\n",
       "2006     0.000076\n",
       "Name: year, dtype: float64"
      ]
     },
     "execution_count": 7,
     "metadata": {},
     "output_type": "execute_result"
    }
   ],
   "source": [
    "tweets2['year'] = tweets2.created_at.str[:4].astype(int)\n",
    "tweets2.year.value_counts() / len(tweets2) * 100"
   ]
  },
  {
   "cell_type": "code",
   "execution_count": 17,
   "metadata": {
    "id": "i7Oc6wdGqmRl"
   },
   "outputs": [],
   "source": [
    "recent = tweets2[tweets2.year >= 2019]"
   ]
  },
  {
   "cell_type": "code",
   "execution_count": 9,
   "metadata": {
    "colab": {
     "base_uri": "https://localhost:8080/"
    },
    "id": "t6qBMbLxqzVj",
    "outputId": "329616e0-add9-464d-fda1-0685bedb7154"
   },
   "outputs": [
    {
     "data": {
      "text/plain": [
       "2019    100.0\n",
       "Name: year, dtype: float64"
      ]
     },
     "execution_count": 9,
     "metadata": {},
     "output_type": "execute_result"
    }
   ],
   "source": [
    "recent.year.value_counts() / len(recent) * 100"
   ]
  },
  {
   "cell_type": "code",
   "execution_count": 10,
   "metadata": {
    "colab": {
     "base_uri": "https://localhost:8080/"
    },
    "id": "08Idlk0foLsV",
    "outputId": "02cbf2f2-7568-47a2-b2d4-318cbdf64b05"
   },
   "outputs": [
    {
     "data": {
      "text/plain": [
       "Global stance                                 28.121399\n",
       "Importance of Human Intervantion              23.410911\n",
       "Politics                                      14.147642\n",
       "Weather Extremes                              10.665706\n",
       "Significance of Pollution Awareness Events     5.571089\n",
       "Donald Trump versus Science                    4.865757\n",
       "Undefined / One Word Hashtags                  4.186579\n",
       "Seriousness of Gas Emissions                   3.364588\n",
       "Impact of Resource Overconsumption             3.005142\n",
       "Ideological Positions on Global Warming        2.661186\n",
       "Name: topic, dtype: float64"
      ]
     },
     "execution_count": 10,
     "metadata": {},
     "output_type": "execute_result"
    }
   ],
   "source": [
    "recent.topic.value_counts() / len(recent) * 100"
   ]
  },
  {
   "cell_type": "code",
   "execution_count": 16,
   "metadata": {},
   "outputs": [
    {
     "data": {
      "text/plain": [
       "2018    32.449685\n",
       "2017    15.242835\n",
       "2019    13.118334\n",
       "2015     7.523842\n",
       "2016     6.540114\n",
       "2010     5.386583\n",
       "2014     5.313223\n",
       "2009     5.015923\n",
       "2013     3.698633\n",
       "2011     3.555103\n",
       "2012     1.862285\n",
       "2008     0.269350\n",
       "2007     0.024006\n",
       "2006     0.000084\n",
       "Name: year, dtype: float64"
      ]
     },
     "execution_count": 16,
     "metadata": {},
     "output_type": "execute_result"
    }
   ],
   "source": [
    "deniers = tweets2[tweets2.stance == 'denier']\n",
    "\n",
    "deniers.year.value_counts() / len(deniers) * 100"
   ]
  },
  {
   "cell_type": "code",
   "execution_count": 11,
   "metadata": {
    "colab": {
     "base_uri": "https://localhost:8080/"
    },
    "id": "0GHLODrpox4-",
    "outputId": "24e68707-bb82-4b53-b523-1a5f09e277c1",
    "scrolled": true
   },
   "outputs": [
    {
     "data": {
      "text/plain": [
       "2175571"
      ]
     },
     "execution_count": 11,
     "metadata": {},
     "output_type": "execute_result"
    }
   ],
   "source": [
    "recent[recent.stance != 'denier']"
   ]
  },
  {
   "cell_type": "code",
   "execution_count": null,
   "metadata": {},
   "outputs": [],
   "source": [
    "recent = tweets2[tweets2.year >= 2018]"
   ]
  },
  {
   "cell_type": "code",
   "execution_count": null,
   "metadata": {},
   "outputs": [],
   "source": []
  },
  {
   "cell_type": "code",
   "execution_count": 19,
   "metadata": {
    "id": "0w50IaCloxwl"
   },
   "outputs": [],
   "source": [
    "non_deniers = recent[recent.stance != 'denier'].groupby('topic').apply(lambda x: x.sample(frac=0.1)).reset_index(drop=True)\n",
    "deniers = recent[recent.stance == 'denier']\n",
    "\n",
    "# subset = pd.concat([tweets2[tweets2.stance == 'denier'], recent])\n",
    "subset = pd.concat([deniers, non_deniers])"
   ]
  },
  {
   "cell_type": "code",
   "execution_count": 26,
   "metadata": {
    "scrolled": true
   },
   "outputs": [
    {
     "data": {
      "text/plain": [
       "denier      60.753422\n",
       "believer    31.711972\n",
       "neutral      7.534606\n",
       "Name: stance, dtype: float64"
      ]
     },
     "execution_count": 26,
     "metadata": {},
     "output_type": "execute_result"
    }
   ],
   "source": [
    "subset.stance.value_counts() / len(subset) * 100"
   ]
  },
  {
   "cell_type": "code",
   "execution_count": 20,
   "metadata": {
    "colab": {
     "base_uri": "https://localhost:8080/"
    },
    "id": "kkadA1_2oBIM",
    "outputId": "82865bb8-e79d-4671-9d5d-5238ba65b5da"
   },
   "outputs": [
    {
     "data": {
      "text/plain": [
       "257253"
      ]
     },
     "execution_count": 20,
     "metadata": {},
     "output_type": "execute_result"
    }
   ],
   "source": [
    "len(subset)"
   ]
  },
  {
   "cell_type": "code",
   "execution_count": 23,
   "metadata": {
    "id": "FEaFFpZdgK-z"
   },
   "outputs": [],
   "source": [
    "subset[['id']].to_csv(data_path + 'tweet_ids_subset.csv', index=False, header=None)"
   ]
  },
  {
   "cell_type": "code",
   "execution_count": null,
   "metadata": {
    "id": "v8p_iZqP565r"
   },
   "outputs": [],
   "source": [
    "!twarc2 hydrate tweet_ids_subset.csv > /content/drive/MyDrive/openai-hackathon/data/tweets_hydrated.jsonl"
   ]
  },
  {
   "cell_type": "code",
   "execution_count": null,
   "metadata": {
    "id": "DmN5G5h6tnEg"
   },
   "outputs": [],
   "source": [
    "!twarc configure"
   ]
  },
  {
   "cell_type": "code",
   "execution_count": null,
   "metadata": {
    "id": "pI7b40tU0T2D"
   },
   "outputs": [],
   "source": [
    "from openai.embeddings_utils import get_embedding\n",
    "\n",
    "@retry(wait=wait_random_exponential(min=2, max=200), stop=stop_after_attempt(20))\n",
    "def embeddings_with_backoff(**kwargs):\n",
    "    return get_embedding(**kwargs)\n",
    "\n",
    "\n",
    "tweets1['babbage_similarity'] = tweets1.message.apply(lambda x: embeddings_with_backoff(x, engine='text-similarity-babbage-001'))"
   ]
  },
  {
   "cell_type": "code",
   "execution_count": null,
   "metadata": {
    "id": "qmGZiBLdyNM9"
   },
   "outputs": [],
   "source": []
  },
  {
   "cell_type": "code",
   "execution_count": null,
   "metadata": {
    "id": "QKbSAe5s4J12"
   },
   "outputs": [],
   "source": [
    "tweets1.to_csv('tweets1.csv', index=False)"
   ]
  },
  {
   "cell_type": "code",
   "execution_count": null,
   "metadata": {
    "id": "D4nZrTJu2DYT"
   },
   "outputs": [],
   "source": [
    "tweets1['babbage_search'] = tweets1.combined.apply(lambda x: get_embedding(x, engine='text-search-babbage-doc-001'))"
   ]
  },
  {
   "cell_type": "code",
   "execution_count": null,
   "metadata": {
    "id": "i9HG4DNoETSW"
   },
   "outputs": [],
   "source": [
    "@retry(wait=wait_random_exponential(min=1, max=60), stop=stop_after_attempt(5))\n",
    "def completion_with_backoff(**kwargs):\n",
    "    return openai.Completion.create(**kwargs)\n",
    "\n",
    "\n",
    "def summarize_chunk(chunk: str, max_tokens: int = 512, temperature: int = 0) -> str:\n",
    "    response = completion_with_backoff(\n",
    "        model=\"text-davinci-002\",\n",
    "        prompt=f'Using scientific language, provide a long and detailed summary of the excerpt below\".'\n",
    "        f\"\\n###\\nExcerpt:{chunk}\\n###\\n-\",\n",
    "        temperature=temperature,\n",
    "        max_tokens=max_tokens,\n",
    "        top_p=1,\n",
    "        frequency_penalty=0,\n",
    "        presence_penalty=0,\n",
    "    )\n",
    "\n",
    "    return response['choices'][0]['text'].strip()"
   ]
  },
  {
   "cell_type": "code",
   "execution_count": null,
   "metadata": {
    "id": "htzFmm4vwc_i"
   },
   "outputs": [],
   "source": [
    "from openai.embeddings_utils import get_embedding\n",
    "\n",
    "# This will take just under 10 minutes\n",
    "tweets1['babbage_similarity'] = tweets1.combined.apply(lambda x: get_embedding(x, engine='text-similarity-babbage-001'))\n",
    "tweets1['babbage_search'] = tweets1.combined.apply(lambda x: get_embedding(x, engine='text-search-babbage-doc-001'))"
   ]
  },
  {
   "cell_type": "code",
   "execution_count": null,
   "metadata": {
    "id": "oTXV3zd8-Kc7"
   },
   "outputs": [],
   "source": [
    "summarize_chunk('hello my name is bert I am an AI')"
   ]
  },
  {
   "cell_type": "code",
   "execution_count": 57,
   "metadata": {
    "id": "o2eGuOMxGjLo"
   },
   "outputs": [],
   "source": [
    "out_path = pathlib.Path('/content/summaries')\n",
    "out_path.mkdir(parents=False, exist_ok=True)"
   ]
  },
  {
   "cell_type": "code",
   "execution_count": 58,
   "metadata": {
    "colab": {
     "base_uri": "https://localhost:8080/"
    },
    "id": "iDYHXycSv0wi",
    "outputId": "dd2a532d-bae0-4d7f-b3f8-0ba7f89b4e37"
   },
   "outputs": [
    {
     "name": "stdout",
     "output_type": "stream",
     "text": [
      "usage: twarc [-h] [--log LOG] [--consumer_key CONSUMER_KEY]\n",
      "             [--consumer_secret CONSUMER_SECRET] [--access_token ACCESS_TOKEN]\n",
      "             [--access_token_secret ACCESS_TOKEN_SECRET] [--config CONFIG]\n",
      "             [--profile PROFILE] [--warnings]\n",
      "             [--connection_errors CONNECTION_ERRORS]\n",
      "             [--http_errors HTTP_ERRORS] [--max_id MAX_ID]\n",
      "             [--since_id SINCE_ID] [--result_type {mixed,recent,popular}]\n",
      "             [--lang LANG] [--geocode GEOCODE] [--locations LOCATIONS]\n",
      "             [--follow FOLLOW] [--recursive] [--tweet_mode {compat,extended}]\n",
      "             [--protected] [--output OUTPUT] [--format {json,csv,csv-excel}]\n",
      "             [--split SPLIT] [--skip_key_validation] [--app_auth]\n",
      "             [--gnip_auth] [--30day THIRTYDAY] [--fullarchive FULLARCHIVE]\n",
      "             [--gnip_fullarchive GNIP_FULLARCHIVE] [--from_date FROM_DATE]\n",
      "             [--to_date TO_DATE] [--limit LIMIT] [--sandbox]\n",
      "             {configure,dehydrate,filter,followers,friends,help,hydrate,replies,retweets,sample,search,timeline,trends,tweet,users,listmembers,version}\n",
      "             [query]\n",
      "twarc: error: the following arguments are required: command\n"
     ]
    }
   ],
   "source": [
    "!twarc --version"
   ]
  },
  {
   "cell_type": "code",
   "execution_count": null,
   "metadata": {
    "id": "IwnLptLqv7qH"
   },
   "outputs": [],
   "source": []
  }
 ],
 "metadata": {
  "accelerator": "GPU",
  "colab": {
   "collapsed_sections": [],
   "provenance": []
  },
  "gpuClass": "standard",
  "kernelspec": {
   "display_name": "climate",
   "language": "python",
   "name": "climate"
  },
  "language_info": {
   "codemirror_mode": {
    "name": "ipython",
    "version": 3
   },
   "file_extension": ".py",
   "mimetype": "text/x-python",
   "name": "python",
   "nbconvert_exporter": "python",
   "pygments_lexer": "ipython3",
   "version": "3.8.13"
  }
 },
 "nbformat": 4,
 "nbformat_minor": 1
}
